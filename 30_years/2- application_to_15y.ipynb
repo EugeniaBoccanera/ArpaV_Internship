{
 "cells": [
  {
   "cell_type": "markdown",
   "id": "dc42e311",
   "metadata": {},
   "source": [
    "### Notebook to produce the dataset with 30years already normalized and reduced(pca) with the results obtained from the analysis over the 30y_even\n",
    "\n",
    "OUTPUT : matrix with 30y (1994-2023) normalized and with pca applied\n",
    "- X_pca_30y.npy"
   ]
  },
  {
   "cell_type": "code",
   "execution_count": 1,
   "id": "0bde30e5",
   "metadata": {},
   "outputs": [],
   "source": [
    "import sys\n",
    "import os\n",
    "sys.path.append(os.path.abspath(\"..\"))"
   ]
  },
  {
   "cell_type": "code",
   "execution_count": 2,
   "id": "1536d2fa",
   "metadata": {},
   "outputs": [],
   "source": [
    "import xarray as xr\n",
    "import numpy as np\n",
    "import gc\n",
    "import joblib\n",
    "import warnings\n",
    "warnings.filterwarnings('ignore')\n",
    "\n",
    "import importlib\n",
    "import utils.data_processing\n",
    "import utils.visualization\n",
    "importlib.reload(utils.data_processing)\n",
    "importlib.reload(utils.visualization)\n",
    "\n",
    "# Import the functions \n",
    "from utils.data_processing import prepare_data_matrix, apply_global_standardization, perform_incremental_pca\n",
    "\n"
   ]
  },
  {
   "cell_type": "code",
   "execution_count": 3,
   "id": "a4c9e086",
   "metadata": {},
   "outputs": [
    {
     "name": "stderr",
     "output_type": "stream",
     "text": [
      "Ignoring index file '../era5_1994_2008.grib.5b7b6.idx' incompatible with GRIB file\n"
     ]
    },
    {
     "data": {
      "text/plain": [
       "0"
      ]
     },
     "execution_count": 3,
     "metadata": {},
     "output_type": "execute_result"
    }
   ],
   "source": [
    "# Return to the original dataset to process the 2009-2023 data\n",
    "gc.collect()\n",
    "ds = xr.open_dataset('../era5_1994_2008.grib', engine='cfgrib')\n",
    "\n",
    "# \n",
    "z_500 = ds['z'].sel(isobaricInhPa=[500])\n",
    "t_850 = ds['t'].sel(isobaricInhPa=[850])\n",
    "z_500 = z_500.rename({'isobaricInhPa': 'pressure_z'})\n",
    "t_850 = t_850.rename({'isobaricInhPa': 'pressure_t'})\n",
    "ds_filtered = xr.Dataset({'z': z_500, 't': t_850})\n",
    "\n",
    "del ds, z_500, t_850\n",
    "gc.collect()"
   ]
  },
  {
   "cell_type": "code",
   "execution_count": 4,
   "id": "e03924af",
   "metadata": {},
   "outputs": [
    {
     "name": "stdout",
     "output_type": "stream",
     "text": [
      "Processing z...\n",
      "     → z: ('time', 'pressure_z', 'latitude', 'longitude') → (5479, 64521)\n",
      "Processing t...\n",
      "     → t: ('time', 'pressure_t', 'latitude', 'longitude') → (5479, 64521)\n",
      "\n",
      "Combined matrix shape: (5479, 129042)\n"
     ]
    },
    {
     "data": {
      "text/plain": [
       "22"
      ]
     },
     "execution_count": 4,
     "metadata": {},
     "output_type": "execute_result"
    }
   ],
   "source": [
    "X, _ = prepare_data_matrix(ds_filtered)\n",
    "global_mean = np.load(\"global_mean_30y.npy\")\n",
    "global_std  = np.load(\"global_std_30y.npy\")\n",
    "\n",
    "X_std = (X - global_mean) / global_std\n",
    "\n",
    "del ds_filtered, X\n",
    "gc.collect()\n",
    "\n"
   ]
  },
  {
   "cell_type": "code",
   "execution_count": 5,
   "id": "9e650b57",
   "metadata": {},
   "outputs": [
    {
     "name": "stdout",
     "output_type": "stream",
     "text": [
      "Dati ridotti salvati in X_pca_1994_2008.npy\n"
     ]
    }
   ],
   "source": [
    "# Load the PCA model\n",
    "ipca = joblib.load(\"ipca_30y.pkl\")\n",
    "X_reduced = ipca.transform(X_std)\n",
    "\n",
    "# \n",
    "np.save(\"X_pca_1994_2008.npy\", X_reduced)\n",
    "print(\"Dati ridotti salvati in X_pca_1994_2008.npy\")"
   ]
  },
  {
   "cell_type": "markdown",
   "id": "7fb44189",
   "metadata": {},
   "source": [
    "The previous code as been applied to the two files: era5_1994_2008.grib and era5_2009_2023.grib. Now I have obtained the two matrices X_pca_...period..., and now I merge them in order to obtain the final 30 years matrix with the normalization and pca applied"
   ]
  },
  {
   "cell_type": "markdown",
   "id": "1222b620",
   "metadata": {},
   "source": [
    "#### 30 years matrix"
   ]
  },
  {
   "cell_type": "code",
   "execution_count": null,
   "id": "146230f7",
   "metadata": {},
   "outputs": [
    {
     "name": "stdout",
     "output_type": "stream",
     "text": [
      "Shape unified matrix: (10957, 20)\n"
     ]
    }
   ],
   "source": [
    "\n",
    "X1 = np.load(\"X_pca_1994_2008.npy\")\n",
    "X2 = np.load(\"X_pca_2009_2023.npy\")\n",
    "\n",
    "X_pca_30y = np.concatenate([X1, X2], axis=0)\n",
    "\n",
    "print(f\"Shape unified matrix: {X_pca_30y.shape}\")\n",
    "\n",
    "# \n",
    "np.save(\"X_pca_30y.npy\", X_pca_30y)\n"
   ]
  }
 ],
 "metadata": {
  "kernelspec": {
   "display_name": "grib_env",
   "language": "python",
   "name": "python3"
  },
  "language_info": {
   "codemirror_mode": {
    "name": "ipython",
    "version": 3
   },
   "file_extension": ".py",
   "mimetype": "text/x-python",
   "name": "python",
   "nbconvert_exporter": "python",
   "pygments_lexer": "ipython3",
   "version": "3.10.18"
  }
 },
 "nbformat": 4,
 "nbformat_minor": 5
}
