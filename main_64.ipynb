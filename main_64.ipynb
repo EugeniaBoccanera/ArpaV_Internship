{
 "cells": [
  {
   "cell_type": "markdown",
   "id": "f09e8e9a",
   "metadata": {},
   "source": [
    "# Unsupervised Clustering Methods for Meteorological European Configurations/ Patterns\n"
   ]
  },
  {
   "cell_type": "markdown",
   "id": "8275b925",
   "metadata": {},
   "source": [
    "\n",
    "<span style=\"color: yellow;\">- In 2.2 vedere se standard scaler va bene o se è emglio usare robust scaler, per ora dovrebbe andare bene</span>  \n",
    "<span style=\"color: yellow;\">- eventualmente nella standardizzazione posso demarcare la cella sopra che ha le funzioni per il calcolo della memoria (no)</span> "
   ]
  },
  {
   "cell_type": "code",
   "execution_count": 1,
   "id": "595b08ce",
   "metadata": {},
   "outputs": [],
   "source": [
    "import xarray as xr\n",
    "import numpy as np\n",
    "import pandas as pd\n",
    "import gc\n",
    "import matplotlib.pyplot as plt\n",
    "import seaborn as sns\n",
    "import warnings\n",
    "warnings.filterwarnings('ignore')\n",
    "\n",
    "from sklearn.preprocessing import StandardScaler, RobustScaler\n",
    "from sklearn.decomposition import PCA, IncrementalPCA\n",
    "from sklearn.feature_selection import VarianceThreshold\n",
    "from statsmodels.stats.outliers_influence import variance_inflation_factor\n"
   ]
  },
  {
   "cell_type": "markdown",
   "id": "922c18b7",
   "metadata": {},
   "source": [
    "## 1 Caricamento Dati e Analisi Iniziale"
   ]
  },
  {
   "cell_type": "code",
   "execution_count": 2,
   "id": "baa42acd",
   "metadata": {},
   "outputs": [
    {
     "name": "stdout",
     "output_type": "stream",
     "text": [
      "Dataset loaded successfully.\n"
     ]
    }
   ],
   "source": [
    "try:\n",
    "    ds = xr.open_dataset('era5_2000_2004.grib', engine= 'cfgrib') # XArray DataSet\n",
    "    print(\"Dataset loaded successfully.\")\n",
    "except Exception as e:\n",
    "    print(f\"Error loading dataset: {e}\")"
   ]
  },
  {
   "cell_type": "code",
   "execution_count": 3,
   "id": "335f3534",
   "metadata": {},
   "outputs": [
    {
     "name": "stdout",
     "output_type": "stream",
     "text": [
      "Overview of the dataset:\n",
      "   • Variables: ['z', 't', 'u', 'v']\n",
      "   • Coordinates: ['number', 'time', 'step', 'isobaricInhPa', 'latitude', 'longitude', 'valid_time']\n"
     ]
    }
   ],
   "source": [
    "print(\"Overview of the dataset:\")\n",
    "print(f\"   • Variables: {list(ds.data_vars.keys())}\")\n",
    "print(f\"   • Coordinates: {list(ds.coords.keys())}\")"
   ]
  },
  {
   "cell_type": "code",
   "execution_count": 4,
   "id": "97965aa7",
   "metadata": {},
   "outputs": [
    {
     "name": "stdout",
     "output_type": "stream",
     "text": [
      "Dimension details:\n",
      "   • Latitude: 201 points (20.0° - 70.0°)\n",
      "   • Longitude: 321 points (-40.0° - 40.0°)\n",
      "   • Time: 1827 steps (2000-01-01 - 2004-12-31)\n",
      "   • Pressure levels: 3 levels ([np.float64(850.0), np.float64(500.0), np.float64(250.0)] hPa)\n",
      "Variables in the dataset:\n",
      "   • z: ('time', 'isobaricInhPa', 'latitude', 'longitude') - Geopotential\n",
      "     └─ Units: m**2 s**-2\n",
      "   • t: ('time', 'isobaricInhPa', 'latitude', 'longitude') - Temperature\n",
      "     └─ Units: K\n",
      "   • u: ('time', 'isobaricInhPa', 'latitude', 'longitude') - U component of wind\n",
      "     └─ Units: m s**-1\n",
      "   • v: ('time', 'isobaricInhPa', 'latitude', 'longitude') - V component of wind\n",
      "     └─ Units: m s**-1\n"
     ]
    }
   ],
   "source": [
    "# Dimenision details\n",
    "print(\"Dimension details:\")\n",
    "if 'latitude' in ds.dims:\n",
    "    print(f\"   • Latitude: {ds.dims['latitude']} points ({ds.latitude.min().values:.1f}° - {ds.latitude.max().values:.1f}°)\")\n",
    "if 'longitude' in ds.dims:\n",
    "    print(f\"   • Longitude: {ds.dims['longitude']} points ({ds.longitude.min().values:.1f}° - {ds.longitude.max().values:.1f}°)\")\n",
    "if 'time' in ds.dims:\n",
    "    print(f\"   • Time: {ds.dims['time']} steps ({pd.to_datetime(ds.time.values[0]).strftime('%Y-%m-%d')} - {pd.to_datetime(ds.time.values[-1]).strftime('%Y-%m-%d')})\")\n",
    "if 'isobaricInhPa' in ds.dims:\n",
    "    print(f\"   • Pressure levels: {ds.dims['isobaricInhPa']} levels ({list(ds.isobaricInhPa.values)} hPa)\")\n",
    "\n",
    "#Variables \n",
    "print(\"Variables in the dataset:\")\n",
    "for var in ds.data_vars:\n",
    "    var_data = ds[var]\n",
    "    print(f\"   • {var}: {var_data.dims} - {var_data.attrs.get('long_name', 'N/A')}\")\n",
    "    print(f\"     └─ Units: {var_data.attrs.get('units', 'N/A')}\")\n"
   ]
  },
  {
   "cell_type": "code",
   "execution_count": 5,
   "id": "bd087867",
   "metadata": {},
   "outputs": [
    {
     "name": "stdout",
     "output_type": "stream",
     "text": [
      "DIMENSIONALITY:\n",
      "   • Spatial points: 64521\n",
      "   • Total features per timestep: 774,252\n",
      "   • Temporal samples: 1827\n"
     ]
    }
   ],
   "source": [
    "# Total dimensionality\n",
    "total_spatial_points = 1\n",
    "for dim in ['latitude', 'longitude']:\n",
    "    if dim in ds.dims:\n",
    "        total_spatial_points *= ds.dims[dim]\n",
    "\n",
    "total_features = len(ds.data_vars) * ds.dims.get('isobaricInhPa', 1) * total_spatial_points\n",
    "print(\"DIMENSIONALITY:\")\n",
    "print(f\"   • Spatial points: {total_spatial_points}\")\n",
    "print(f\"   • Total features per timestep: {total_features:,}\")\n",
    "print(f\"   • Temporal samples: {ds.dims.get('time', 1)}\")"
   ]
  },
  {
   "cell_type": "markdown",
   "id": "2c4d1633",
   "metadata": {},
   "source": [
    "Spatial points: punti griglia nello spazio. \n",
    "La regione osservata è suddivisa in una griglia regolare (0.25° x 0.25°), per ogni punto nella grigli avengono misurate le variabili\n",
    "\n",
    "Total features per timestep: numero di variabili (features) in totale in ogni istante di tempo\n",
    "\n",
    "Temporal samples: punti temporali nel dataset (365 giorni per 5 anni)"
   ]
  },
  {
   "cell_type": "markdown",
   "id": "3e5e19da",
   "metadata": {},
   "source": [
    "### 1.1 Check quality in data"
   ]
  },
  {
   "cell_type": "code",
   "execution_count": 6,
   "id": "2a4083f7",
   "metadata": {},
   "outputs": [
    {
     "name": "stdout",
     "output_type": "stream",
     "text": [
      "MISSING VALUES: No missing values (previously verified)\n"
     ]
    }
   ],
   "source": [
    "# Missing values check: already verified to be 0\n",
    "print(\"MISSING VALUES: No missing values (previously verified)\")"
   ]
  },
  {
   "cell_type": "markdown",
   "id": "80f4c385",
   "metadata": {},
   "source": [
    "There are no missing values in the dataset"
   ]
  },
  {
   "cell_type": "markdown",
   "id": "e916de27",
   "metadata": {},
   "source": [
    "## 2 Preprocessing and Feature Selection"
   ]
  },
  {
   "cell_type": "markdown",
   "id": "818f3343",
   "metadata": {},
   "source": [
    "### 2.1 Preparing Data Matrix"
   ]
  },
  {
   "cell_type": "markdown",
   "id": "cd245b9a",
   "metadata": {},
   "source": [
    "#### Struttura inziale dei dati\n",
    "\n",
    "**Scatola** = Dataset   \n",
    "dentro la scatola di sono dei blocchi di fogli\n",
    "\n",
    "**Un blocco di fogli** = un signolo giorno ( da 1 gennaio 2000 a 21 dic 2004)  -> <span style=\"color: red;\">1827 giorni</span>  \n",
    "il blocco di fogli è formato da 4 fogli uno per ogni variabile\n",
    "\n",
    "**Un foglio contiene i valori di una variabile** =  variabili: u, v, z, t -> <span style=\"color: red;\">4 variabili</span>  \n",
    "\n",
    "Ogni foglio contiene i valori di quella variabile presi in ogni singolo punto dello 'spazio' definito dalla longitudine e dalla laitudine. Quindi in ogni foglio c'è il valore di quella variabile in ognuno dei 201(lat) × 321(lon). Una specie di tabella.  -> <span style=\"color: red;\">64521 punti spaziali</span>\n",
    "\n",
    "**Solo che questa tabella di valori è presa per ognuno dei 3 livelli di pressione** = 850 hPa, 500 hPa, 250 hPa -> <span style=\"color: red;\">3 lv di pressione</span>\n",
    "\n",
    "**TOT= 774252 valori per blocco**   x 1827 giorni\n",
    "\n",
    "Per ogni variabile:  \n",
    "__per ogni livello di pressione:  \n",
    "____per ogni lat:  \n",
    "______per ogni lon:  \n",
    "________prendi il valore  \n",
    "\n",
    "Se penso al foglio come una tabella con 774252 colonne, e solo 1 riga, che rappresenta tutte le misure spaziali per quel giorno, posso mettere insieme tutti i 1827 fogli, e ottenere una matrice finale di forma (1827, 774252). Ogni riga è un giorno. Ogni colonna è una variabile a una certa posizione e pressione.\n"
   ]
  },
  {
   "cell_type": "markdown",
   "id": "0c947a7e",
   "metadata": {},
   "source": [
    "#### Struttura finale dei dati\n",
    "\n",
    "L’obiettivo è trasformare tutto in una tabella 2D:\n",
    "\n",
    "           feature_1  feature_2  ...  feature_774252  \n",
    "time_1 →      ...        ...             ...  \n",
    "time_2 →      ...        ...             ...  \n",
    "  ⋮                             \n",
    "time_1827 →   ...        ...             ...  \n",
    "\n",
    "Righe: 1827 (una per ogni timestep)  \n",
    "Colonne: 774,252 (una per ogni combinazione di punto spaziale × variabile)  \n",
    "\n",
    "Organizzazione delle Colonne:  \n",
    "[z_850_lat0_lon0, z_850_lat0_lon1, ..., z_500_lat0_lon0, ..., z_250_lat0_lon0, ...,  \n",
    " t_850_lat0_lon0, t_850_lat0_lon1, ..., t_500_lat0_lon0, ..., t_250_lat0_lon0, ...,  \n",
    " u_850_lat0_lon0, u_850_lat0_lon1, ..., u_500_lat0_lon0, ..., u_250_lat0_lon0, ...,  \n",
    " v_850_lat0_lon0, v_850_lat0_lon1, ..., v_500_lat0_lon0, ..., v_250_lat0_lon0, ...]  "
   ]
  },
  {
   "cell_type": "code",
   "execution_count": 7,
   "id": "62cdc9fe",
   "metadata": {},
   "outputs": [],
   "source": [
    "# Convert dataset to 2D array \n",
    "def prepare_data_matrix(dataset):\n",
    "    \"\"\"Converts xarray dataset to 2D matrix\"\"\"\n",
    "    data_matrices = {}\n",
    "    \n",
    "    for var in dataset.data_vars:\n",
    "        print(f\"   • Processing {var}...\")\n",
    "        var_data = dataset[var]\n",
    "        \n",
    "        # Reorganize dimensions: (time, features)\n",
    "        if 'time' in var_data.dims:\n",
    "            # Stack all non-temporal dimensions\n",
    "            spatial_dims = [dim for dim in var_data.dims if dim != 'time']\n",
    "            if spatial_dims:\n",
    "                stacked = var_data.stack(features=spatial_dims)      # From: var[time=1827, pressure=3, lat=201, lon=321]\n",
    "                matrix = stacked.values  # shape: (time, features)   # To:  var[time=1827, features=193563]  (3×201×321=193563)\n",
    "            else:\n",
    "                matrix = var_data.values.reshape(-1, 1)  # For variables without spatial dimensions\n",
    "        else:\n",
    "            matrix = var_data.values.flatten().reshape(1, -1)\n",
    "        \n",
    "        data_matrices[var] = matrix\n",
    "    \n",
    "    # Concatenate all variables\n",
    "    all_matrices = list(data_matrices.values())\n",
    "    combined_matrix = np.concatenate(all_matrices, axis=1)\n",
    "    \n",
    "    return combined_matrix, data_matrices\n"
   ]
  },
  {
   "cell_type": "code",
   "execution_count": 8,
   "id": "d219d137",
   "metadata": {},
   "outputs": [
    {
     "name": "stdout",
     "output_type": "stream",
     "text": [
      "PREPARING DATA MATRIX\n",
      "   • Processing z...\n",
      "   • Processing t...\n",
      "   • Processing u...\n",
      "   • Processing v...\n",
      "Data Matrix: (1827, 774252) (samples, features)\n"
     ]
    }
   ],
   "source": [
    "print(\"PREPARING DATA MATRIX\")\n",
    "X, data_matrices = prepare_data_matrix(ds)\n",
    "print(f\"Data Matrix: {X.shape} (samples, features)\")"
   ]
  },
  {
   "cell_type": "markdown",
   "id": "d39b946f",
   "metadata": {},
   "source": [
    "Prima (per la variabile z):  \n",
    "z[time=0, pressure=850, lat=37.5, lon=12.0] = 1234.5  \n",
    "z[time=0, pressure=500, lat=37.5, lon=12.0] = 5678.9  \n",
    "z[time=0, pressure=250, lat=37.5, lon=12.0] = 9876.1  \n",
    "...  \n",
    "\n",
    "Dopo lo stack:  \n",
    "z[time=0, feature_0] = 1234.5  # (850hPa, lat37.5, lon12.0)  \n",
    "z[time=0, feature_1] = 5678.9  # (500hPa, lat37.5, lon12.0)    \n",
    "z[time=0, feature_2] = 9876.1  # (250hPa, lat37.5, lon12.0)  \n",
    "...  \n",
    "\n",
    "Concatenazione finale:\n",
    "\n",
    "X[time=0] = [z_features (tti i valori di z)... | t_features... | u_features... | v_features...]\n"
   ]
  },
  {
   "cell_type": "markdown",
   "id": "4036ffae",
   "metadata": {},
   "source": [
    "### 2.2 Standardization"
   ]
  },
  {
   "cell_type": "markdown",
   "id": "776a6144",
   "metadata": {},
   "source": [
    "The next step is to standardize the data for each feature to achieve zero mean and unit variance (standard deviation = 1).Standardization of a dataset is a common requirement for many machine learning estimators: they might behave badly if the individual features do not more or less look like standard normally distributed data   \n",
    "We use Scikit-learn's StandardScaler, which computes the mean and standard deviation across all samples. However, due to the massive dimensionality of our dataset (1827 × 774,252), loading all data into memory simultaneously would cause RAM saturation. To solve thi memory constraint we employ the _.partial_fit()_ method, which enables incremental standardization by processing the data in a streaming fashion - one sample at a time. This approach allows us to handle large datasets that exceed available memory while maintaining the same statistical properties as batch processing.\n",
    "\n",
    "Media e varianza si possono calcolare incrementalmente invece che su tutti i dati in blocco.\n",
    "Equivalente matematico:  \n",
    "Invece di: mean = sum(all_data) / n  \n",
    "Posso usare: mean_new = (mean_old * (n-1) + x_new) / n  "
   ]
  },
  {
   "cell_type": "markdown",
   "id": "314d72f9",
   "metadata": {},
   "source": [
    "Per ora uso StandardScaler poichè i valori sono ben distribuiti. Ma nel caso la PCA o il Kmeans venissero strani posso provare ad utilizzare RobustScaler che è più robusto agli outliers.\n",
    "  \n",
    "\n",
    "Se ho problemi di RAM, posso:\n",
    "\n",
    "    Ridurre le feature prima della standardizzazione (es. PCA incrementale)."
   ]
  },
  {
   "cell_type": "code",
   "execution_count": 9,
   "id": "6ca7022f",
   "metadata": {},
   "outputs": [
    {
     "name": "stdout",
     "output_type": "stream",
     "text": [
      "STANDARDIZATION - Memory-Safe\n",
      "   • Batch size: 1 \n",
      "   • Phase 1: Calculate statistics (1 sample at a time)...\n",
      "   • partial_fit completed\n",
      "   • Phase 2: In-place transformation...\n",
      "   • Standardization completed!\n",
      "   • Dataset shape: (1827, 774252)\n",
      "   • Standardization verification (per feature):\n",
      "   • Mean (per feature, first 3 feature): [-2.9361894e-08  2.4402997e-08 -5.4808869e-09]\n",
      "   • Std  (per feature, first 3 feature): [0.9999999  1.0000001  0.99999994]\n",
      "   • Mean (per feature, first 10 feature): [-2.9361894e-08  2.4402997e-08 -5.4808869e-09 -2.0227082e-08\n",
      "  6.0942241e-08  1.1744757e-09 -1.3049731e-08  2.7404434e-08\n",
      "  2.1010067e-08 -3.6147753e-08]\n",
      "   • Std  (per feature, first 10 feature): [0.9999999  1.0000001  0.99999994 1.0000004  0.99999994 0.9999995\n",
      " 1.0000007  1.0000004  0.99999964 1.0000002 ]\n"
     ]
    }
   ],
   "source": [
    "print(\"STANDARDIZATION - Memory-Safe\")\n",
    "\n",
    "# Check if data is already standardized to avoid double-processing\n",
    "#print(\"   • Checking if data is already standardized...\")\n",
    "sample_check = X[:3, :10].mean(axis=0)\n",
    "#if np.allclose(sample_check, 0, atol=0.1):\n",
    "#    print(\"  Data appears already standardized - SKIPPING!\")\n",
    "#    print(f\"   • Dataset shape: {X.shape}\")\n",
    "#    print(\"   • If you want to re-standardize, restart kernel and reload data\")\n",
    "#else:\n",
    "#    print(\"  Data in original scale - proceeding with standardization\")\n",
    "\n",
    "batch_size = 1\n",
    "print(f\"   • Batch size: {batch_size} \")\n",
    "\n",
    "scaler = StandardScaler()\n",
    "\n",
    "# Only proceed if data is not already standardized\n",
    "if not np.allclose(sample_check, 0, atol=0.1):\n",
    "    # Step 1: Calculate statistics one sample at a time\n",
    "    print(\"   • Phase 1: Calculate statistics (1 sample at a time)...\")\n",
    "    for i in range(0, X.shape[0], batch_size):\n",
    "        scaler.partial_fit(X[i:i+1])   # Online computation of mean and std on X for later scaling\n",
    "\n",
    "        # Log every 500 samples to reduce overhead\n",
    "        if i % 500 == 0:\n",
    "            progress = (i / X.shape[0]) * 100\n",
    "            gc.collect()\n",
    "\n",
    "    print(\"   • partial_fit completed\")\n",
    "\n",
    "    # Step 2: Direct in-place transformation \n",
    "    print(\"   • Phase 2: In-place transformation...\")\n",
    "    for i in range(0, X.shape[0]):\n",
    "        # Direct transformation on single row \n",
    "        X[i:i+1] = scaler.transform(X[i:i+1])   # Perform standardization by centering and scaling\n",
    "\n",
    "        # Log every 500 samples to reduce overhead\n",
    "        if i % 500 == 0:\n",
    "            progress = (i / X.shape[0]) * 100\n",
    "\n",
    "            # Garbage collection every 1000 samples\n",
    "            if i % 1000 == 0:\n",
    "                gc.collect()\n",
    "\n",
    "    print(f\"   • Standardization completed!\")\n",
    "\n",
    "print(f\"   • Dataset shape: {X.shape}\")\n",
    "\n",
    "print(\"   • Standardization verification (per feature):\")\n",
    "\n",
    "# Check mean and std for first 3 features\n",
    "mean_per_feature = X[:, :3].mean(axis=0)\n",
    "std_per_feature = X[:, :3].std(axis=0)\n",
    "\n",
    "print(f\"   • Mean (per feature, first 3 feature): {mean_per_feature}\")\n",
    "print(f\"   • Std  (per feature, first 3 feature): {std_per_feature}\")\n",
    "\n",
    "# Check mean and std for first 10 features\n",
    "print(\"   • Mean (per feature, first 10 feature):\", X[:, :10].mean(axis=0))\n",
    "print(\"   • Std  (per feature, first 10 feature):\", X[:, :10].std(axis=0))"
   ]
  },
  {
   "cell_type": "markdown",
   "id": "97b8f68d",
   "metadata": {},
   "source": [
    "PRIMA della standardizzazione:  \n",
    "Colonna 0 (z_850_lat0_lon0): Valori di geopotenziale a 850hPa nel punto (lat0,lon0) per TUTTI i 1827 giorni  \n",
    "Esempio: [10815, 10820, 10805, 10830, ...] → 1827 valori diversi  \n",
    "\n",
    "DOPO la standardizzazione:  \n",
    "Colonna 0: Calcolo mean e std di quei 1827 valori  \n",
    "Esempio: mean=10818, std=15  \n",
    "Ogni valore diventa: (valore_originale - 10818) / 15  \n",
    "Risultato: [-0.2, 0.13, -0.87, 0.8, ...] → media=0, std=1  \n",
    "\n",
    "Cosa Significa:\n",
    "La standardizzazione normalizza ogni punto geografico-variabile rispetto alla sua variabilità temporale.\n",
    "\n",
    "Ad esempio:   \n",
    "Prima: Geopotenziale a Milano a 850hPa varia da 1480 a 1520 metri nei 5 anni  \n",
    "Dopo: Questi valori diventano da -2.1 a +1.8 (media=0, std=1)  \n",
    "Interpretazione: Ora puoi confrontare la \"anomalia\" di Milano con quella di Roma, anche se hanno scale diverse!  "
   ]
  },
  {
   "cell_type": "markdown",
   "id": "50446c09",
   "metadata": {},
   "source": [
    "Now, an esample of standardization for 3 points is shown."
   ]
  },
  {
   "cell_type": "markdown",
   "id": "ea7bdc77",
   "metadata": {},
   "source": [
    "![Esempio Standardizzazione](./standardization_example.png)"
   ]
  },
  {
   "cell_type": "markdown",
   "id": "00e14f55",
   "metadata": {},
   "source": [
    "### 2.3 PCA"
   ]
  },
  {
   "cell_type": "markdown",
   "id": "fd6d42a4",
   "metadata": {},
   "source": [
    "Step 1: PCA Incrementale  \n",
    "L'obiettivo è di riuscire a descrivere un dato sistema in modo chiaro e sufficientemente accurato\n",
    "usando un numero ridotto di variabili, mantenendo il più possibile l’informazione (varianza) contenuta nei dati originali.  \n",
    "\n",
    "IncrementalPCA elabora i dati un batch alla volta (100 righe) e aggiorna i componenti principali progressivamente.\n",
    "\n",
    "<span style=\"color: orange;\">Non adatta se:  \n",
    "le variabili originali hanno un significato interpretativo importante (perché le componenti PCA sono combinazioni lineari difficili da interpretare)</span>"
   ]
  },
  {
   "cell_type": "markdown",
   "id": "fe9410bd",
   "metadata": {},
   "source": [
    "\n",
    "\n",
    "**Varianza = quanto i dati si \"spargono\" attorno alla media**\n",
    "- La PCA cerca le **direzioni di MASSIMA varianza**   \n",
    "- Trova i pattern meteorologici che cambiano di più nel tempo  \n",
    "- Cattura le configurazioni atmosferiche principali (NAO, anticicloni, ecc.)  "
   ]
  },
  {
   "cell_type": "markdown",
   "id": "5fc117f0",
   "metadata": {},
   "source": [
    "**Cosa significa \"90% di varianza spiegata\"?**\n",
    "\n",
    "Ognuna delle 774252 variabili ha la sua varianza:\n",
    "- Geopotenziale a Milano: varia tanto → ALTA varianza\n",
    "- Temperatura nel Sahara: varia poco → BASSA varianza\n",
    "\n",
    "1. **Trova la Prima Componente**: la direzione che spiega PIÙ varianza possibile\n",
    "   - Es: \"Anticiclone vs. Ciclone\" → spiega il 35% della varianza totale\n",
    "\n",
    "2. **Trova la Seconda Componente**: la direzione che spiega la SECONDA più alta varianza\n",
    "   - Es: \"Estate vs. Inverno\" → spiega il 20% della varianza\n",
    "\n",
    "3. **Continua così...** fino ad avere tutte le componenti\n"
   ]
  },
  {
   "cell_type": "markdown",
   "id": "f926a30c",
   "metadata": {},
   "source": [
    "<span style=\"color: orange;\"> La PCA non assegna etichette o categorie: ogni campione rimane un punto nello spazio, solo rappresentato in modo più efficiente. Le componenti non sono cluster, ma assi cartesiani scelti in modo che la varianza sia massima lungo il primo asse, poi il secondo ecc. Quindi la PCA non è un clustering, anche se può rivelare struttura nei dati."
   ]
  },
  {
   "cell_type": "code",
   "execution_count": null,
   "id": "06390a1e",
   "metadata": {},
   "outputs": [
    {
     "name": "stdout",
     "output_type": "stream",
     "text": [
      "INCREMENTAL PCA ANALYSIS\n",
      "   • Target components: 60\n",
      "   • Batch size: 100\n",
      "   • Data shape: (1827, 774252)\n",
      "   • Phase 1: Fitting incremental PCA...\n",
      "      └─ Progress: 5.5%\n",
      "      └─ Progress: 60.2%\n",
      "   • Phase 2: Transforming data...\n",
      "      └─ Progress: 5.5%\n",
      "      └─ Progress: 60.2%\n",
      "   • PCA transformation completed!\n",
      "   • Original shape: (1827, 774252)\n",
      "   • PCA shape: (1827, 60)\n",
      "\n",
      "   • VARIANCE ANALYSIS:\n",
      "   • Total explained variance (60 components): 0.850\n",
      "   • 80.0% variance: 35 components\n",
      "   • 85.0% variance: >60 components needed\n",
      "   • 90.0% variance: >60 components needed\n",
      "   • 95.0% variance: >60 components needed\n",
      "\n",
      "   • First 10 components variance: [0.26235129 0.07127485 0.06121076 0.05527094 0.04657589 0.0373427\n",
      " 0.02761811 0.02242706 0.02087703 0.01766382]\n",
      "   • First 20 components cumulative: 0.732\n"
     ]
    }
   ],
   "source": [
    "print(\"INCREMENTAL PCA ANALYSIS\")\n",
    "\n",
    "# Memory-efficient PCA with incremental processing\n",
    "# Start with analysis of many components to understand variance distribution\n",
    "n_components = 60   # Reduced to 50 components for safety with batch processing\n",
    "batch_size = 100    # Increased batch size to accommodate more components\n",
    "\n",
    "print(f\"   • Target components: {n_components}\")\n",
    "print(f\"   • Batch size: {batch_size}\")\n",
    "print(f\"   • Data shape: {X.shape}\")\n",
    "\n",
    "# Ensure batch_size doesn't exceed total samples\n",
    "if batch_size > X.shape[0]:\n",
    "    batch_size = X.shape[0]\n",
    "    print(f\"   • Adjusted batch size to total samples: {batch_size}\")\n",
    "\n",
    "# Initialize IncrementalPCA\n",
    "ipca = IncrementalPCA(n_components=n_components, batch_size=batch_size)\n",
    "\n",
    "print(\"   • Phase 1: Fitting incremental PCA...\")\n",
    "# Fit the PCA incrementally\n",
    "for i in range(0, X.shape[0], batch_size):\n",
    "    batch = X[i:i+batch_size]\n",
    "    ipca.partial_fit(batch)\n",
    "    \n",
    "    # Progress tracking\n",
    "    if i % (batch_size * 10) == 0:  # Every 10 batches\n",
    "        progress = min(100, (i + batch_size) / X.shape[0] * 100)\n",
    "        print(f\"      └─ Progress: {progress:.1f}%\")\n",
    "        gc.collect()\n",
    "\n",
    "print(\"   • Phase 2: Transforming data...\")\n",
    "# Transform data in batches to avoid memory issues\n",
    "X_pca = np.zeros((X.shape[0], n_components))\n",
    "\n",
    "for i in range(0, X.shape[0], batch_size):\n",
    "    end_idx = min(i + batch_size, X.shape[0])\n",
    "    batch = X[i:end_idx]\n",
    "    X_pca[i:end_idx] = ipca.transform(batch)\n",
    "    \n",
    "    # Progress tracking\n",
    "    if i % (batch_size * 10) == 0:  # Every 10 batches\n",
    "        progress = min(100, (i + batch_size) / X.shape[0] * 100)\n",
    "        print(f\"      └─ Progress: {progress:.1f}%\")\n",
    "        gc.collect()\n",
    "\n",
    "print(f\"   • PCA transformation completed!\")\n",
    "print(f\"   • Original shape: {X.shape}\")\n",
    "print(f\"   • PCA shape: {X_pca.shape}\")\n",
    "\n",
    "# Analyze explained variance\n",
    "explained_variance_ratio = ipca.explained_variance_ratio_\n",
    "cumulative_variance = np.cumsum(explained_variance_ratio)\n",
    "\n",
    "print(\"\\n   • VARIANCE ANALYSIS:\")\n",
    "print(f\"   • Total explained variance ({n_components} components): {cumulative_variance[-1]:.3f}\")\n",
    "\n",
    "# Find components needed for different variance thresholds\n",
    "thresholds = [0.80, 0.85, 0.90, 0.95]\n",
    "for threshold in thresholds:\n",
    "    n_comp_needed = np.argmax(cumulative_variance >= threshold) + 1\n",
    "    if cumulative_variance[-1] >= threshold:\n",
    "        print(f\"   • {threshold*100}% variance: {n_comp_needed} components\")\n",
    "    else:\n",
    "        print(f\"   • {threshold*100}% variance: >{n_components} components needed\")\n",
    "\n",
    "# Show variance distribution for first components\n",
    "print(f\"\\n   • First 10 components variance: {explained_variance_ratio[:10]}\")\n",
    "print(f\"   • First 50 components cumulative: {cumulative_variance[49]:.3f}\")"
   ]
  },
  {
   "cell_type": "markdown",
   "id": "96492970",
   "metadata": {},
   "source": [
    "La PCA con 50 componenti spiega l’83.3% della varianza totale, sufficiente per molti scopi pratici, ma non per superare soglie più alte (es. 90% o 95%), che richiederebbero ancora più componenti.\n",
    "\n",
    "Il grafico mostra chiaramente un forte “elbow” nei primi componenti: la prima componente da sola spiega il 26.2% (!), la seconda il 7.1%, e poi via via la varianza scende rapidamente → significa che gran parte dell’informazione è concentrata nei primi component\n",
    "\n",
    "    Analisi della varianza\n",
    "\n",
    "    calcola la percentuale di varianza spiegata da ciascun componente  \n",
    "    calcola la cumulata (cioè quanto “copre” l’informazione aggiungendo via via più componenti)  \n",
    "    stampa quante componenti servono per spiegare almeno l’80%, 90%, 95% della varianza\n",
    "\n",
    "\n",
    "\n",
    "- la prima componente da sola spiega il 26% della varianza → fortemente dominante\n",
    "- le prime 10 componenti arrivano circa al 60% cumulato\n",
    "- per arrivare all’80% servono 36 componenti\n",
    "- con 50 componenti si arriva all’83% → buono ma non eccellente se vogliamo 90% <span style=\"color: lightblue;\">per arrivare al 90% ci vorrebbero più di 50 componenti, quindi servirebbe ripetere con n_components più alto se l’obiettivo è qualità massima</span>"
   ]
  },
  {
   "cell_type": "code",
   "execution_count": 14,
   "id": "03c7e8a1",
   "metadata": {},
   "outputs": [
    {
     "name": "stdout",
     "output_type": "stream",
     "text": [
      "VARIANCE VISUALIZATION\n"
     ]
    },
    {
     "data": {
      "image/png": "[encoded data removed]",
      "text/plain": [
       "<Figure size 1500x500 with 2 Axes>"
      ]
     },
     "metadata": {},
     "output_type": "display_data"
    }
   ],
   "source": [
    "# Visualization of explained variance\n",
    "print(\"VARIANCE VISUALIZATION\")\n",
    "\n",
    "# Create plots for variance analysis\n",
    "fig, (ax1, ax2) = plt.subplots(1, 2, figsize=(15, 5))\n",
    "\n",
    "# Plot 1: Individual explained variance ratio\n",
    "ax1.plot(range(1, len(explained_variance_ratio) + 1), explained_variance_ratio, 'b-', alpha=0.7)\n",
    "ax1.set_xlabel('Principal Component')\n",
    "ax1.set_ylabel('Explained Variance Ratio')\n",
    "ax1.set_title('Individual Explained Variance per Component')\n",
    "ax1.grid(True, alpha=0.3)\n",
    "ax1.set_xlim(1, 60)  # Focus on first 60 components\n",
    "\n",
    "# Plot 2: Cumulative explained variance\n",
    "ax2.plot(range(1, len(cumulative_variance) + 1), cumulative_variance, 'r-', linewidth=2)\n",
    "ax2.axhline(y=0.80, color='orange', linestyle='--', alpha=0.7, label='80%')\n",
    "ax2.axhline(y=0.85, color='blue', linestyle='--', alpha=0.7, label='85%')\n",
    "ax2.axhline(y=0.90, color='green', linestyle='--', alpha=0.7, label='90%')\n",
    "ax2.axhline(y=0.95, color='purple', linestyle='--', alpha=0.7, label='95%')\n",
    "ax2.set_xlabel('Number of Components')\n",
    "ax2.set_ylabel('Cumulative Explained Variance')\n",
    "ax2.set_title('Cumulative Explained Variance')\n",
    "ax2.legend()\n",
    "ax2.grid(True, alpha=0.3)\n",
    "ax2.set_xlim(1, n_components)\n",
    "ax2.set_ylim(0, 1)\n",
    "\n",
    "plt.tight_layout()\n",
    "plt.show()\n"
   ]
  },
  {
   "cell_type": "markdown",
   "id": "d45e7f74",
   "metadata": {},
   "source": [
    "Grafico a sinistra: varianza spiegata individualmente da ciascuna componente (curve blu decrescente).\n",
    "\n",
    "Grafico a destra: varianza cumulativa spiegata dalle componenti, con linee orizzontali alle soglie 80%, 90%, 95% per capire visivamente quanti componenti servono.\n",
    "\n",
    "    grafico a sinistra: varianza spiegata per singola componente\n",
    "    (di solito decresce velocemente, “elbow” shape)  \n",
    "    mostra la varianza spiegata da ciascun componente  \n",
    "    conferma che la prima componente è molto informativa  \n",
    "    curva a gomito → tipico nei dati ridondanti\n",
    "\n",
    "    grafico a destra: varianza spiegata cumulata\n",
    "    (sale a gradini, fino a saturare verso 1)  \n",
    "    mostra la varianza cumulata\n",
    "    le linee orizzontali (80%, 90%, 95%) ti fanno capire quanto margine hai  \n",
    "    la curva rossa sale rapidamente ma si stabilizza, quindi i componenti successivi hanno impatto minore"
   ]
  },
  {
   "cell_type": "markdown",
   "id": "39a5f039",
   "metadata": {},
   "source": [
    "<span style=\"color: orange;\">la PCA permette di proiettare i dati in un nuovo spazio ridotto che mantiene la maggior parte dell’informazione\n",
    "Inoltre, facilita interpretazioni fisiche (ad esempio i primi componenti possono corrispondere a pattern meteorologici dominanti) e riduce il rumore e la ridondanza tra variabili</span>"
   ]
  },
  {
   "cell_type": "markdown",
   "id": "dedab68a",
   "metadata": {},
   "source": [
    "<span style=\"color: red;\">Se faccio un grafico dei primi 2 componenti e noto due nuvole distinte di punti, quello suggerisce che c'è una struttura a cluster.</span>"
   ]
  },
  {
   "cell_type": "markdown",
   "id": "1022a744",
   "metadata": {},
   "source": [
    "### **ORA PREPARARE IL DATASET RIDOTTO CON IL NUMERO DESIDERATO DI PRICNIPAL COMPONENTS**"
   ]
  },
  {
   "cell_type": "markdown",
   "id": "1d9c91f1",
   "metadata": {},
   "source": [
    "Step 2: Analisi Varianza  (Plot varianza spiegata)\n",
    "Vedere quante componenti servono per 90% varianza  \n",
    "Plot: varianza cumulativa vs numero componenti  \n",
    "Devo scegliere le dim finali (probabilmente 20-80 componenti)  \n",
    "\n",
    "3. Correlazione tra VARIABILI (non tutte le features)  \n",
    "Cerco correlazioni tra le 4 variabili meteorologiche aggregate  \n",
    "Invece di 774k×774k → 4×4 matrice gestibile  \n",
    "Correlazioni tra variabili meteorologiche (aggregate per livello)\n"
   ]
  },
  {
   "cell_type": "markdown",
   "id": "8b0d71db",
   "metadata": {},
   "source": []
  }
 ],
 "metadata": {
  "kernelspec": {
   "display_name": "grib_env",
   "language": "python",
   "name": "python3"
  },
  "language_info": {
   "codemirror_mode": {
    "name": "ipython",
    "version": 3
   },
   "file_extension": ".py",
   "mimetype": "text/x-python",
   "name": "python",
   "nbconvert_exporter": "python",
   "pygments_lexer": "ipython3",
   "version": "3.10.18"
  }
 },
 "nbformat": 4,
 "nbformat_minor": 5
}
